{
 "cells": [
  {
   "cell_type": "code",
   "execution_count": 1,
   "metadata": {},
   "outputs": [
    {
     "name": "stdout",
     "output_type": "stream",
     "text": [
      "hello\n"
     ]
    }
   ],
   "source": [
    "print(\"hello\")"
   ]
  },
  {
   "cell_type": "code",
   "execution_count": 5,
   "metadata": {},
   "outputs": [
    {
     "name": "stdout",
     "output_type": "stream",
     "text": [
      "Error occurred while setting file permissions: function 'GetFileSecurityW' not found\n"
     ]
    }
   ],
   "source": [
    "import os\n",
    "import ctypes\n",
    "\n",
    "# Path to the file storing the installation date\n",
    "file_path = 'C:\\\\ProgramData\\\\ICVS\\\\installation.txt'\n",
    "\n",
    "# Set restricted file permissions to read-only for all users except administrators\n",
    "def set_file_permissions():\n",
    "    try:\n",
    "        # Get security information of the file\n",
    "        sec_info = ctypes.windll.kernel32.GetFileSecurityW(file_path, ctypes.DACL_SECURITY_INFORMATION)\n",
    "\n",
    "        # Deny write access to everyone except administrators\n",
    "        everyone_sid = ctypes.windll.kernel32.ConvertStringSidToSidW(\"S-1-1-0\")\n",
    "        administrators_sid = ctypes.windll.kernel32.ConvertStringSidToSidW(\"S-1-5-32-544\")\n",
    "\n",
    "        dacl = ctypes.cast(sec_info, ctypes.POINTER(ctypes.c_void_p))\n",
    "        dacl.contents.contents.AclRevision = 2  # ACL revision\n",
    "        dacl.contents.contents.AceCount = 2  # Number of ACEs in the ACL\n",
    "\n",
    "        # Deny write access to everyone\n",
    "        ctypes.windll.advapi32.AddAccessDeniedAceEx(\n",
    "            dacl,\n",
    "            2,\n",
    "            ctypes.c_int(0x1),  # FILE_WRITE_DATA permission mask\n",
    "            everyone_sid\n",
    "        )\n",
    "\n",
    "        # Allow full control to administrators\n",
    "        ctypes.windll.advapi32.AddAccessAllowedAceEx(\n",
    "            dacl,\n",
    "            2,\n",
    "            0xF003F,  # Full control permission mask\n",
    "            administrators_sid\n",
    "        )\n",
    "\n",
    "        # Set modified security information\n",
    "        \n",
    "        ctypes.windll.kernel32.SetFileSecurityW(file_path, ctypes.DACL_SECURITY_INFORMATION, sec_info)\n",
    "\n",
    "        print(\"File permissions set successfully.\")\n",
    "    except Exception as e:\n",
    "        print(\"Error occurred while setting file permissions:\", e)\n",
    "\n",
    "# Call the function to set file permissions\n",
    "set_file_permissions()\n"
   ]
  },
  {
   "cell_type": "code",
   "execution_count": null,
   "metadata": {},
   "outputs": [],
   "source": []
  }
 ],
 "metadata": {
  "kernelspec": {
   "display_name": "Python 3",
   "language": "python",
   "name": "python3"
  },
  "language_info": {
   "codemirror_mode": {
    "name": "ipython",
    "version": 3
   },
   "file_extension": ".py",
   "mimetype": "text/x-python",
   "name": "python",
   "nbconvert_exporter": "python",
   "pygments_lexer": "ipython3",
   "version": "3.9.9"
  }
 },
 "nbformat": 4,
 "nbformat_minor": 2
}
